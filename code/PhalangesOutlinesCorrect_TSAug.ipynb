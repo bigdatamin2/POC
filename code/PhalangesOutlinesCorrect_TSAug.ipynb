{
  "nbformat": 4,
  "nbformat_minor": 0,
  "metadata": {
    "colab": {
      "provenance": [],
      "machine_shape": "hm",
      "gpuType": "T4"
    },
    "kernelspec": {
      "name": "python3",
      "display_name": "Python 3"
    },
    "language_info": {
      "name": "python"
    },
    "accelerator": "GPU"
  },
  "cells": [
    {
      "cell_type": "code",
      "execution_count": 1,
      "metadata": {
        "colab": {
          "base_uri": "https://localhost:8080/"
        },
        "id": "wkwveHmr_M_N",
        "outputId": "eddb4601-b905-42fe-d0cb-34ef63c3e307",
        "collapsed": true
      },
      "outputs": [
        {
          "output_type": "stream",
          "name": "stdout",
          "text": [
            "Collecting fastdtw\n",
            "  Downloading fastdtw-0.3.4.tar.gz (133 kB)\n",
            "\u001b[?25l     \u001b[90m━━━━━━━━━━━━━━━━━━━━━━━━━━━━━━━━━━━━━━━━\u001b[0m \u001b[32m0.0/133.4 kB\u001b[0m \u001b[31m?\u001b[0m eta \u001b[36m-:--:--\u001b[0m\r\u001b[2K     \u001b[90m━━━━━━━━━━━━━━━━━━━━━━━━━━━━━━━━━━━━━━━━\u001b[0m \u001b[32m133.4/133.4 kB\u001b[0m \u001b[31m3.8 MB/s\u001b[0m eta \u001b[36m0:00:00\u001b[0m\n",
            "\u001b[?25h  Preparing metadata (setup.py) ... \u001b[?25l\u001b[?25hdone\n",
            "Requirement already satisfied: numpy in /usr/local/lib/python3.11/dist-packages (from fastdtw) (1.26.4)\n",
            "Building wheels for collected packages: fastdtw\n",
            "  Building wheel for fastdtw (setup.py) ... \u001b[?25l\u001b[?25hdone\n",
            "  Created wheel for fastdtw: filename=fastdtw-0.3.4-cp311-cp311-linux_x86_64.whl size=542091 sha256=062252dd7421009b90d8088762755abbb5cb16b8d681a39afee14fc568eea768\n",
            "  Stored in directory: /root/.cache/pip/wheels/5c/8a/f6/fd3df9a9714677410a5ccbf3ca519e66db4a54a1c46ea95332\n",
            "Successfully built fastdtw\n",
            "Installing collected packages: fastdtw\n",
            "Successfully installed fastdtw-0.3.4\n",
            "Collecting imblearn\n",
            "  Downloading imblearn-0.0-py2.py3-none-any.whl.metadata (355 bytes)\n",
            "Requirement already satisfied: imbalanced-learn in /usr/local/lib/python3.11/dist-packages (from imblearn) (0.13.0)\n",
            "Requirement already satisfied: numpy<3,>=1.24.3 in /usr/local/lib/python3.11/dist-packages (from imbalanced-learn->imblearn) (1.26.4)\n",
            "Requirement already satisfied: scipy<2,>=1.10.1 in /usr/local/lib/python3.11/dist-packages (from imbalanced-learn->imblearn) (1.13.1)\n",
            "Requirement already satisfied: scikit-learn<2,>=1.3.2 in /usr/local/lib/python3.11/dist-packages (from imbalanced-learn->imblearn) (1.6.1)\n",
            "Requirement already satisfied: sklearn-compat<1,>=0.1 in /usr/local/lib/python3.11/dist-packages (from imbalanced-learn->imblearn) (0.1.3)\n",
            "Requirement already satisfied: joblib<2,>=1.1.1 in /usr/local/lib/python3.11/dist-packages (from imbalanced-learn->imblearn) (1.4.2)\n",
            "Requirement already satisfied: threadpoolctl<4,>=2.0.0 in /usr/local/lib/python3.11/dist-packages (from imbalanced-learn->imblearn) (3.5.0)\n",
            "Downloading imblearn-0.0-py2.py3-none-any.whl (1.9 kB)\n",
            "Installing collected packages: imblearn\n",
            "Successfully installed imblearn-0.0\n",
            "Collecting tslearn\n",
            "  Downloading tslearn-0.6.3-py3-none-any.whl.metadata (14 kB)\n",
            "Requirement already satisfied: numpy in /usr/local/lib/python3.11/dist-packages (from tslearn) (1.26.4)\n",
            "Requirement already satisfied: scipy in /usr/local/lib/python3.11/dist-packages (from tslearn) (1.13.1)\n",
            "Requirement already satisfied: scikit-learn in /usr/local/lib/python3.11/dist-packages (from tslearn) (1.6.1)\n",
            "Requirement already satisfied: numba in /usr/local/lib/python3.11/dist-packages (from tslearn) (0.61.0)\n",
            "Requirement already satisfied: joblib in /usr/local/lib/python3.11/dist-packages (from tslearn) (1.4.2)\n",
            "Requirement already satisfied: llvmlite<0.45,>=0.44.0dev0 in /usr/local/lib/python3.11/dist-packages (from numba->tslearn) (0.44.0)\n",
            "Requirement already satisfied: threadpoolctl>=3.1.0 in /usr/local/lib/python3.11/dist-packages (from scikit-learn->tslearn) (3.5.0)\n",
            "Downloading tslearn-0.6.3-py3-none-any.whl (374 kB)\n",
            "\u001b[2K   \u001b[90m━━━━━━━━━━━━━━━━━━━━━━━━━━━━━━━━━━━━━━━━\u001b[0m \u001b[32m374.4/374.4 kB\u001b[0m \u001b[31m1.1 MB/s\u001b[0m eta \u001b[36m0:00:00\u001b[0m\n",
            "\u001b[?25hInstalling collected packages: tslearn\n",
            "Successfully installed tslearn-0.6.3\n"
          ]
        }
      ],
      "source": [
        "!pip install fastdtw\n",
        "!pip install imblearn\n",
        "!pip install tslearn"
      ]
    },
    {
      "cell_type": "code",
      "source": [
        "import numpy as np\n",
        "import pandas as pd\n",
        "import matplotlib.pyplot as plt\n",
        "from scipy.spatial.distance import euclidean\n",
        "from fastdtw import fastdtw\n",
        "from sklearn.model_selection import train_test_split\n",
        "from sklearn.neighbors import KNeighborsClassifier\n",
        "from sklearn.metrics import accuracy_score, classification_report, recall_score\n",
        "from urllib.request import urlopen\n",
        "from io import StringIO\n",
        "from google.colab import drive\n",
        "import random\n",
        "from imblearn.metrics import specificity_score\n",
        "from tslearn.preprocessing import TimeSeriesResampler"
      ],
      "metadata": {
        "id": "Z8MOpsbZ_PMf"
      },
      "execution_count": 2,
      "outputs": []
    },
    {
      "cell_type": "code",
      "source": [
        "# 1. Google Drive 마운트 및 데이터 파일 경로 설정\n",
        "drive.mount('/content/drive')\n",
        "df_X_train = pd.read_csv('/content/drive/My Drive/PhalangesOutlinesCorrect/X_train_sample.csv')\n",
        "df_y_train = pd.read_csv('/content/drive/My Drive/PhalangesOutlinesCorrect/y_train_sample.csv')\n",
        "df_X_test = pd.read_csv('/content/drive/MyDrive/PhalangesOutlinesCorrect/X_test_sample.csv')\n",
        "df_y_test = pd.read_csv('/content/drive/MyDrive/PhalangesOutlinesCorrect/y_test_sample.csv')\n",
        "\n",
        "X_train = df_X_train.values\n",
        "y_train = df_y_train.values.reshape(-1)\n",
        "X_test = df_X_test.values\n",
        "y_test = df_y_test.values.reshape(-1)"
      ],
      "metadata": {
        "colab": {
          "base_uri": "https://localhost:8080/"
        },
        "id": "E-ZO3b62_VFB",
        "outputId": "fa9678d2-d5c7-46fb-c044-eaed7ce13fb7"
      },
      "execution_count": 3,
      "outputs": [
        {
          "output_type": "stream",
          "name": "stdout",
          "text": [
            "Mounted at /content/drive\n"
          ]
        }
      ]
    },
    {
      "cell_type": "code",
      "source": [
        "# Identify minority class\n",
        "target_counts = pd.Series(y_train).value_counts()\n",
        "minority_class = target_counts.idxmin()\n",
        "majority_class = target_counts.idxmax()"
      ],
      "metadata": {
        "id": "OGQmHI6FgLGU"
      },
      "execution_count": 4,
      "outputs": []
    },
    {
      "cell_type": "code",
      "source": [
        "# Extract minority class samples\n",
        "X_minority = X_train[y_train == minority_class]\n",
        "X_major = X_train[y_train == majority_class]"
      ],
      "metadata": {
        "id": "vohsUR24gmWw"
      },
      "execution_count": 5,
      "outputs": []
    },
    {
      "cell_type": "code",
      "source": [
        "# Generate synthetic time series using DTW-based random walk\n",
        "def generate_dtw_synthetic_data(X, num_samples):\n",
        "    synthetic_data = []\n",
        "    for _ in range(num_samples):\n",
        "        idx1, idx2 = np.random.choice(len(X), 2, replace=False)\n",
        "        dtw_avg = (X[idx1] + X[idx2]) / 2  # Simple average as DTW-based augmentation\n",
        "        synthetic_data.append(dtw_avg)\n",
        "    return np.array(synthetic_data)\n",
        "nCnt = len(X_train)-len(X_minority)\n",
        "#X_synthetic = generate_dtw_synthetic_data(X_minority, num_samples=len(X_minority))\n",
        "X_aug = generate_dtw_synthetic_data(X_minority, num_samples=nCnt)\n",
        "y_aug = np.full(len(X_aug), minority_class)"
      ],
      "metadata": {
        "id": "84WFFXh-fJ-m"
      },
      "execution_count": 6,
      "outputs": []
    },
    {
      "cell_type": "code",
      "source": [
        "X_synthetic = np.concatenate((X_train, X_aug), axis=0)\n",
        "y_synthetic = np.concatenate((y_train, y_aug), axis=0)"
      ],
      "metadata": {
        "id": "MpTxWPRBMaCI"
      },
      "execution_count": 7,
      "outputs": []
    },
    {
      "cell_type": "code",
      "source": [
        "# 3. DTW 거리 행렬 계산 함수 정의 (1D 벡터 변환 추가)\n",
        "def compute_dtw_matrix(X1, X2):\n",
        "    \"\"\"X1과 X2 간의 DTW 거리 행렬을 계산\"\"\"\n",
        "    n1, n2 = len(X1), len(X2)\n",
        "    dtw_matrix = np.zeros((n1, n2))\n",
        "    for i in range(n1):\n",
        "        for j in range(n2):\n",
        "            distance, _ = fastdtw(X1[i].reshape(-1, 1), X2[j].reshape(-1, 1), dist=euclidean)\n",
        "            dtw_matrix[i, j] = distance\n",
        "    return dtw_matrix"
      ],
      "metadata": {
        "id": "rKxmvaWRAFv6"
      },
      "execution_count": 8,
      "outputs": []
    },
    {
      "cell_type": "code",
      "source": [
        "# 4. DTW 거리 행렬 계산\n",
        "print(\"Computing DTW distance matrix for training data...\")\n",
        "train_dtw_matrix = compute_dtw_matrix(X_synthetic, X_synthetic)\n",
        "print(\"Computing DTW distance matrix between train and test data...\")\n",
        "test_dtw_matrix = compute_dtw_matrix(X_test, X_synthetic)"
      ],
      "metadata": {
        "colab": {
          "base_uri": "https://localhost:8080/"
        },
        "id": "IQBd0dYvAKA5",
        "outputId": "4d469720-4703-41a7-a7a2-bf6f0e397c42"
      },
      "execution_count": 9,
      "outputs": [
        {
          "output_type": "stream",
          "name": "stdout",
          "text": [
            "Computing DTW distance matrix for training data...\n",
            "Computing DTW distance matrix between train and test data...\n"
          ]
        }
      ]
    },
    {
      "cell_type": "code",
      "source": [
        "from sklearn.model_selection import train_test_split, cross_val_score\n",
        "# train 점수\n",
        "k_range = range(1, 21)  # K 값을 1부터 20까지 탐색\n",
        "trainList = []\n",
        "for k in k_range:\n",
        "    # 모델 선택 및 하이퍼 파라미터 튜닝\n",
        "    #model = KNeighborsClassifier(n_neighbors = k, metric='precomputed')\n",
        "    model = KNeighborsClassifier(n_neighbors = k)\n",
        "    # 모델학습\n",
        "    model.fit(train_dtw_matrix, y_synthetic)\n",
        "    scores = cross_val_score(model, train_dtw_matrix, y_synthetic, cv=5, scoring='f1_macro')\n",
        "    trainList.append(scores.mean())\n",
        "optimal_score = trainList[np.argmax(trainList)]\n",
        "optimal_k = np.argmax(trainList)+1\n",
        "print(f\"최적의 K 값: {optimal_k}\")\n",
        "print(f\"최적의 K 값의 성능: {optimal_score}\")"
      ],
      "metadata": {
        "id": "LaVAuInPSOeR",
        "collapsed": true,
        "colab": {
          "base_uri": "https://localhost:8080/"
        },
        "outputId": "1d42bb53-37e8-402e-ea26-73c90ed615bd"
      },
      "execution_count": 10,
      "outputs": [
        {
          "output_type": "stream",
          "name": "stdout",
          "text": [
            "최적의 K 값: 1\n",
            "최적의 K 값의 성능: 0.937327338836818\n"
          ]
        }
      ]
    },
    {
      "cell_type": "code",
      "source": [
        "# K 값에 따른 정확도 그래프\n",
        "plt.plot(k_range, trainList, marker='o')\n",
        "plt.xlabel(\"K 값\")\n",
        "plt.ylabel(\"Cross-validation Accuracy\")\n",
        "plt.title(\"K 값에 따른 정확도 변화\")\n",
        "plt.show()"
      ],
      "metadata": {
        "collapsed": true,
        "id": "rL4SyppdWUJp",
        "colab": {
          "base_uri": "https://localhost:8080/",
          "height": 799
        },
        "outputId": "ff7e5366-ecd7-4c5e-921d-0d96506db9b6"
      },
      "execution_count": 11,
      "outputs": [
        {
          "output_type": "stream",
          "name": "stderr",
          "text": [
            "/usr/local/lib/python3.11/dist-packages/IPython/core/pylabtools.py:151: UserWarning: Glyph 44050 (\\N{HANGUL SYLLABLE GABS}) missing from font(s) DejaVu Sans.\n",
            "  fig.canvas.print_figure(bytes_io, **kw)\n",
            "/usr/local/lib/python3.11/dist-packages/IPython/core/pylabtools.py:151: UserWarning: Glyph 50640 (\\N{HANGUL SYLLABLE E}) missing from font(s) DejaVu Sans.\n",
            "  fig.canvas.print_figure(bytes_io, **kw)\n",
            "/usr/local/lib/python3.11/dist-packages/IPython/core/pylabtools.py:151: UserWarning: Glyph 46384 (\\N{HANGUL SYLLABLE DDA}) missing from font(s) DejaVu Sans.\n",
            "  fig.canvas.print_figure(bytes_io, **kw)\n",
            "/usr/local/lib/python3.11/dist-packages/IPython/core/pylabtools.py:151: UserWarning: Glyph 47480 (\\N{HANGUL SYLLABLE REUN}) missing from font(s) DejaVu Sans.\n",
            "  fig.canvas.print_figure(bytes_io, **kw)\n",
            "/usr/local/lib/python3.11/dist-packages/IPython/core/pylabtools.py:151: UserWarning: Glyph 51221 (\\N{HANGUL SYLLABLE JEONG}) missing from font(s) DejaVu Sans.\n",
            "  fig.canvas.print_figure(bytes_io, **kw)\n",
            "/usr/local/lib/python3.11/dist-packages/IPython/core/pylabtools.py:151: UserWarning: Glyph 54869 (\\N{HANGUL SYLLABLE HWAG}) missing from font(s) DejaVu Sans.\n",
            "  fig.canvas.print_figure(bytes_io, **kw)\n",
            "/usr/local/lib/python3.11/dist-packages/IPython/core/pylabtools.py:151: UserWarning: Glyph 46020 (\\N{HANGUL SYLLABLE DO}) missing from font(s) DejaVu Sans.\n",
            "  fig.canvas.print_figure(bytes_io, **kw)\n",
            "/usr/local/lib/python3.11/dist-packages/IPython/core/pylabtools.py:151: UserWarning: Glyph 48320 (\\N{HANGUL SYLLABLE BYEON}) missing from font(s) DejaVu Sans.\n",
            "  fig.canvas.print_figure(bytes_io, **kw)\n",
            "/usr/local/lib/python3.11/dist-packages/IPython/core/pylabtools.py:151: UserWarning: Glyph 54868 (\\N{HANGUL SYLLABLE HWA}) missing from font(s) DejaVu Sans.\n",
            "  fig.canvas.print_figure(bytes_io, **kw)\n"
          ]
        },
        {
          "output_type": "display_data",
          "data": {
            "text/plain": [
              "<Figure size 640x480 with 1 Axes>"
            ],
            "image/png": "[encoded data removed]"
          },
          "metadata": {}
        }
      ]
    },
    {
      "cell_type": "code",
      "source": [
        "print(train_dtw_matrix.shape)\n",
        "print(y_synthetic.shape)\n",
        "print(train_dtw_matrix.shape)\n"
      ],
      "metadata": {
        "id": "hePdHvptBogq",
        "colab": {
          "base_uri": "https://localhost:8080/"
        },
        "outputId": "095e8b80-6a65-4395-a38a-373705807368"
      },
      "execution_count": 12,
      "outputs": [
        {
          "output_type": "stream",
          "name": "stdout",
          "text": [
            "(480, 480)\n",
            "(480,)\n",
            "(480, 480)\n"
          ]
        }
      ]
    },
    {
      "cell_type": "code",
      "source": [
        "# 최적 K 값으로 최종 KNN 모델 학습 및 평가\n",
        "knn_optimal = KNeighborsClassifier(n_neighbors=optimal_k)\n",
        "knn_optimal.fit(train_dtw_matrix, y_synthetic)\n",
        "y_pred = knn_optimal.predict(test_dtw_matrix)"
      ],
      "metadata": {
        "id": "DflYUNg7S0_H",
        "collapsed": true
      },
      "execution_count": 13,
      "outputs": []
    },
    {
      "cell_type": "code",
      "source": [
        "import matplotlib.pyplot as plt\n",
        "import seaborn as sns\n",
        "from sklearn.metrics import accuracy_score, f1_score, confusion_matrix, classification_report, precision_recall_curve"
      ],
      "metadata": {
        "id": "RSMm2-A8GZtS"
      },
      "execution_count": 14,
      "outputs": []
    },
    {
      "cell_type": "code",
      "source": [
        "# Compute evaluation metrics\n",
        "accuracy = accuracy_score(y_test, y_pred)\n",
        "f1 = f1_score(y_test, y_pred, average='weighted')\n",
        "recall = recall_score(y_test, y_pred)\n",
        "specificity = specificity_score(y_test, y_pred)\n",
        "\n",
        "print(f\"Accuracy: {accuracy:.4f}\")\n",
        "print(f\"F1 Score: {f1:.4f}\")\n",
        "print(f\"Recall: {recall:.4f}\")\n",
        "print(f\"specificity: {specificity:.4f}\")\n",
        "print(\"Classification Report:\\n\", classification_report(y_test, y_pred))"
      ],
      "metadata": {
        "id": "o8_WglezGI38",
        "colab": {
          "base_uri": "https://localhost:8080/"
        },
        "outputId": "7dea7d8e-4a50-463d-c1c8-026112b86d36"
      },
      "execution_count": 15,
      "outputs": [
        {
          "output_type": "stream",
          "name": "stdout",
          "text": [
            "Accuracy: 0.7059\n",
            "F1 Score: 0.6456\n",
            "Recall: 0.9643\n",
            "specificity: 0.2069\n",
            "Classification Report:\n",
            "               precision    recall  f1-score   support\n",
            "\n",
            "           0       0.75      0.21      0.32        29\n",
            "           1       0.70      0.96      0.81        56\n",
            "\n",
            "    accuracy                           0.71        85\n",
            "   macro avg       0.73      0.59      0.57        85\n",
            "weighted avg       0.72      0.71      0.65        85\n",
            "\n"
          ]
        }
      ]
    },
    {
      "cell_type": "code",
      "source": [
        "# Confusion Matrix\n",
        "plt.figure(figsize=(4, 3))\n",
        "cm = confusion_matrix(y_test, y_pred)\n",
        "sns.heatmap(cm, annot=True, fmt='d', cmap='Blues', xticklabels=np.unique(y_test), yticklabels=np.unique(y_test))\n",
        "plt.xlabel('Predicted Label')\n",
        "plt.ylabel('True Label')\n",
        "plt.title('Confusion Matrix')\n",
        "plt.show()"
      ],
      "metadata": {
        "id": "55miS5DPNHTW",
        "colab": {
          "base_uri": "https://localhost:8080/",
          "height": 333
        },
        "outputId": "3f7a091c-c637-4409-982d-be6c9a9eaeda"
      },
      "execution_count": 16,
      "outputs": [
        {
          "output_type": "display_data",
          "data": {
            "text/plain": [
              "<Figure size 400x300 with 2 Axes>"
            ],
            "image/png": "[encoded data removed]"
          },
          "metadata": {}
        }
      ]
    }
  ]
}