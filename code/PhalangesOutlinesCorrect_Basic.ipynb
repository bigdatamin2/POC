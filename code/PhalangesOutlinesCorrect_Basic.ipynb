{
  "nbformat": 4,
  "nbformat_minor": 0,
  "metadata": {
    "colab": {
      "provenance": [],
      "machine_shape": "hm",
      "gpuType": "T4"
    },
    "kernelspec": {
      "name": "python3",
      "display_name": "Python 3"
    },
    "language_info": {
      "name": "python"
    }
  },
  "cells": [
    {
      "cell_type": "code",
      "execution_count": 1,
      "metadata": {
        "colab": {
          "base_uri": "https://localhost:8080/"
        },
        "id": "wkwveHmr_M_N",
        "outputId": "7284f58f-bf47-44c8-dd9f-40674fdcf7c6",
        "collapsed": true
      },
      "outputs": [
        {
          "output_type": "stream",
          "name": "stdout",
          "text": [
            "Collecting fastdtw\n",
            "  Downloading fastdtw-0.3.4.tar.gz (133 kB)\n",
            "\u001b[?25l     \u001b[90m━━━━━━━━━━━━━━━━━━━━━━━━━━━━━━━━━━━━━━━━\u001b[0m \u001b[32m0.0/133.4 kB\u001b[0m \u001b[31m?\u001b[0m eta \u001b[36m-:--:--\u001b[0m\r\u001b[2K     \u001b[90m━━━━━━━━━━━━━━━━━━━━━━━━━━━━━━━━━━━━━━━━\u001b[0m \u001b[32m133.4/133.4 kB\u001b[0m \u001b[31m4.6 MB/s\u001b[0m eta \u001b[36m0:00:00\u001b[0m\n",
            "\u001b[?25h  Preparing metadata (setup.py) ... \u001b[?25l\u001b[?25hdone\n",
            "Requirement already satisfied: numpy in /usr/local/lib/python3.11/dist-packages (from fastdtw) (1.26.4)\n",
            "Building wheels for collected packages: fastdtw\n",
            "  Building wheel for fastdtw (setup.py) ... \u001b[?25l\u001b[?25hdone\n",
            "  Created wheel for fastdtw: filename=fastdtw-0.3.4-cp311-cp311-linux_x86_64.whl size=542097 sha256=29ee3f3650b3e0e442eb93fe2959f8fd50e5a28cb5a2574349fa70090c5e1107\n",
            "  Stored in directory: /root/.cache/pip/wheels/5c/8a/f6/fd3df9a9714677410a5ccbf3ca519e66db4a54a1c46ea95332\n",
            "Successfully built fastdtw\n",
            "Installing collected packages: fastdtw\n",
            "Successfully installed fastdtw-0.3.4\n",
            "Collecting imblearn\n",
            "  Downloading imblearn-0.0-py2.py3-none-any.whl.metadata (355 bytes)\n",
            "Requirement already satisfied: imbalanced-learn in /usr/local/lib/python3.11/dist-packages (from imblearn) (0.13.0)\n",
            "Requirement already satisfied: numpy<3,>=1.24.3 in /usr/local/lib/python3.11/dist-packages (from imbalanced-learn->imblearn) (1.26.4)\n",
            "Requirement already satisfied: scipy<2,>=1.10.1 in /usr/local/lib/python3.11/dist-packages (from imbalanced-learn->imblearn) (1.13.1)\n",
            "Requirement already satisfied: scikit-learn<2,>=1.3.2 in /usr/local/lib/python3.11/dist-packages (from imbalanced-learn->imblearn) (1.6.1)\n",
            "Requirement already satisfied: sklearn-compat<1,>=0.1 in /usr/local/lib/python3.11/dist-packages (from imbalanced-learn->imblearn) (0.1.3)\n",
            "Requirement already satisfied: joblib<2,>=1.1.1 in /usr/local/lib/python3.11/dist-packages (from imbalanced-learn->imblearn) (1.4.2)\n",
            "Requirement already satisfied: threadpoolctl<4,>=2.0.0 in /usr/local/lib/python3.11/dist-packages (from imbalanced-learn->imblearn) (3.5.0)\n",
            "Downloading imblearn-0.0-py2.py3-none-any.whl (1.9 kB)\n",
            "Installing collected packages: imblearn\n",
            "Successfully installed imblearn-0.0\n"
          ]
        }
      ],
      "source": [
        "!pip install fastdtw\n",
        "!pip install imblearn"
      ]
    },
    {
      "cell_type": "code",
      "source": [
        "import numpy as np\n",
        "import pandas as pd\n",
        "import matplotlib.pyplot as plt\n",
        "from scipy.spatial.distance import euclidean\n",
        "from fastdtw import fastdtw\n",
        "from sklearn.model_selection import train_test_split\n",
        "from sklearn.neighbors import KNeighborsClassifier\n",
        "from sklearn.metrics import accuracy_score, classification_report, recall_score\n",
        "from urllib.request import urlopen\n",
        "from io import StringIO\n",
        "from google.colab import drive\n",
        "import random\n",
        "from imblearn.metrics import specificity_score"
      ],
      "metadata": {
        "id": "Z8MOpsbZ_PMf"
      },
      "execution_count": 2,
      "outputs": []
    },
    {
      "cell_type": "code",
      "source": [
        "# 1. Google Drive 마운트 및 데이터 파일 경로 설정\n",
        "drive.mount('/content/drive')\n",
        "df_X_train = pd.read_csv('/content/drive/My Drive/PhalangesOutlinesCorrect/X_train_sample.csv')\n",
        "df_y_train = pd.read_csv('/content/drive/My Drive/PhalangesOutlinesCorrect/y_train_sample.csv')\n",
        "df_X_test = pd.read_csv('/content/drive/MyDrive/PhalangesOutlinesCorrect/X_test_sample.csv')\n",
        "df_y_test = pd.read_csv('/content/drive/MyDrive/PhalangesOutlinesCorrect/y_test_sample.csv')\n",
        "\n",
        "X_train = df_X_train.values\n",
        "y_train = df_y_train.values.reshape(-1)\n",
        "X_test = df_X_test.values\n",
        "y_test = df_y_test.values.reshape(-1)"
      ],
      "metadata": {
        "colab": {
          "base_uri": "https://localhost:8080/"
        },
        "id": "E-ZO3b62_VFB",
        "outputId": "06e32e4d-6f03-4153-cf6d-7cf6a1810f80"
      },
      "execution_count": 3,
      "outputs": [
        {
          "output_type": "stream",
          "name": "stdout",
          "text": [
            "Mounted at /content/drive\n"
          ]
        }
      ]
    },
    {
      "cell_type": "code",
      "source": [
        "print(X_train.shape)\n",
        "print(y_train.shape)\n",
        "print(X_test.shape)\n",
        "print(y_test.shape)"
      ],
      "metadata": {
        "colab": {
          "base_uri": "https://localhost:8080/"
        },
        "id": "nvfp3fhRNf5o",
        "outputId": "244c408c-1ae9-420b-a411-4f638127f852"
      },
      "execution_count": 4,
      "outputs": [
        {
          "output_type": "stream",
          "name": "stdout",
          "text": [
            "(123, 80)\n",
            "(123,)\n",
            "(85, 80)\n",
            "(85,)\n"
          ]
        }
      ]
    },
    {
      "cell_type": "code",
      "source": [
        "# 3. DTW 거리 행렬 계산 함수 정의 (1D 벡터 변환 추가)\n",
        "def compute_dtw_matrix(X1, X2):\n",
        "    \"\"\"X1과 X2 간의 DTW 거리 행렬을 계산\"\"\"\n",
        "    n1, n2 = len(X1), len(X2)\n",
        "    dtw_matrix = np.zeros((n1, n2))\n",
        "    for i in range(n1):\n",
        "        for j in range(n2):\n",
        "            distance, _ = fastdtw(X1[i].reshape(-1, 1), X2[j].reshape(-1, 1), dist=euclidean)\n",
        "            dtw_matrix[i, j] = distance\n",
        "    return dtw_matrix"
      ],
      "metadata": {
        "id": "rKxmvaWRAFv6"
      },
      "execution_count": 5,
      "outputs": []
    },
    {
      "cell_type": "code",
      "source": [
        "# 4. DTW 거리 행렬 계산\n",
        "print(\"Computing DTW distance matrix for training data...\")\n",
        "train_dtw_matrix = compute_dtw_matrix(X_train, X_train)\n",
        "print(\"Computing DTW distance matrix between train and test data...\")\n",
        "test_dtw_matrix = compute_dtw_matrix(X_test, X_train)"
      ],
      "metadata": {
        "colab": {
          "base_uri": "https://localhost:8080/"
        },
        "id": "IQBd0dYvAKA5",
        "outputId": "27203891-8895-4980-8464-fb8dbf03c815"
      },
      "execution_count": 6,
      "outputs": [
        {
          "output_type": "stream",
          "name": "stdout",
          "text": [
            "Computing DTW distance matrix for training data...\n",
            "Computing DTW distance matrix between train and test data...\n"
          ]
        }
      ]
    },
    {
      "cell_type": "code",
      "source": [
        "pd.DataFrame(train_dtw_matrix).to_csv('/content/drive/MyDrive/PhalangesOutlinesCorrect/train_dtw_matrix.csv', index=False)\n",
        "pd.DataFrame(y_train).to_csv('/content/drive/MyDrive/PhalangesOutlinesCorrect/y_train.csv', index=False)\n",
        "pd.DataFrame(test_dtw_matrix).to_csv('/content/drive/MyDrive/PhalangesOutlinesCorrect/test_dtw_matrix.csv', index=False)\n",
        "pd.DataFrame(y_test).to_csv('/content/drive/MyDrive/PhalangesOutlinesCorrect/y_test.csv', index=False)"
      ],
      "metadata": {
        "id": "nTHH_IciHsNd"
      },
      "execution_count": 7,
      "outputs": []
    },
    {
      "cell_type": "code",
      "source": [
        "from sklearn.model_selection import train_test_split, cross_val_score\n",
        "# train 점수\n",
        "k_range = range(1, 10)  # K 값을 1부터 10까지 탐색\n",
        "trainList = []\n",
        "for k in k_range:\n",
        "    # 모델 선택 및 하이퍼 파라미터 튜닝\n",
        "    model = KNeighborsClassifier(n_neighbors = k, metric='precomputed')\n",
        "    # 모델학습\n",
        "    model.fit(train_dtw_matrix, y_train)\n",
        "    scores = cross_val_score(model, train_dtw_matrix, y_train, cv=5, scoring='f1_macro')\n",
        "    trainList.append(scores.mean())\n",
        "    #y_pred = model.predict(train_dtw_matrix, )\n",
        "    #specificity = specificity_score(y_train, y_pred)\n",
        "    #trainList.append(specificity)\n",
        "optimal_score = trainList[np.argmax(trainList)]\n",
        "optimal_k = np.argmax(trainList)+1\n",
        "print(f\"최적의 K 값: {optimal_k}\")\n",
        "print(f\"최적의 K 값의 성능: {optimal_score}\")"
      ],
      "metadata": {
        "colab": {
          "base_uri": "https://localhost:8080/"
        },
        "id": "LaVAuInPSOeR",
        "outputId": "441c967d-d0bf-4c94-f82a-e09b69cc4070"
      },
      "execution_count": 8,
      "outputs": [
        {
          "output_type": "stream",
          "name": "stdout",
          "text": [
            "최적의 K 값: 2\n",
            "최적의 K 값의 성능: 0.7016805427073697\n"
          ]
        }
      ]
    },
    {
      "cell_type": "code",
      "source": [
        "# K 값에 따른 정확도 그래프\n",
        "plt.plot(k_range, trainList, marker='o')\n",
        "plt.xlabel(\"K 값\")\n",
        "plt.ylabel(\"Cross-validation Accuracy\")\n",
        "plt.title(\"K 값에 따른 정확도 변화\")\n",
        "plt.show()"
      ],
      "metadata": {
        "colab": {
          "base_uri": "https://localhost:8080/",
          "height": 799
        },
        "collapsed": true,
        "id": "rL4SyppdWUJp",
        "outputId": "a223a968-ad8e-46e5-d2b1-75e8e4af2d6c"
      },
      "execution_count": 9,
      "outputs": [
        {
          "output_type": "stream",
          "name": "stderr",
          "text": [
            "/usr/local/lib/python3.11/dist-packages/IPython/core/pylabtools.py:151: UserWarning: Glyph 44050 (\\N{HANGUL SYLLABLE GABS}) missing from font(s) DejaVu Sans.\n",
            "  fig.canvas.print_figure(bytes_io, **kw)\n",
            "/usr/local/lib/python3.11/dist-packages/IPython/core/pylabtools.py:151: UserWarning: Glyph 50640 (\\N{HANGUL SYLLABLE E}) missing from font(s) DejaVu Sans.\n",
            "  fig.canvas.print_figure(bytes_io, **kw)\n",
            "/usr/local/lib/python3.11/dist-packages/IPython/core/pylabtools.py:151: UserWarning: Glyph 46384 (\\N{HANGUL SYLLABLE DDA}) missing from font(s) DejaVu Sans.\n",
            "  fig.canvas.print_figure(bytes_io, **kw)\n",
            "/usr/local/lib/python3.11/dist-packages/IPython/core/pylabtools.py:151: UserWarning: Glyph 47480 (\\N{HANGUL SYLLABLE REUN}) missing from font(s) DejaVu Sans.\n",
            "  fig.canvas.print_figure(bytes_io, **kw)\n",
            "/usr/local/lib/python3.11/dist-packages/IPython/core/pylabtools.py:151: UserWarning: Glyph 51221 (\\N{HANGUL SYLLABLE JEONG}) missing from font(s) DejaVu Sans.\n",
            "  fig.canvas.print_figure(bytes_io, **kw)\n",
            "/usr/local/lib/python3.11/dist-packages/IPython/core/pylabtools.py:151: UserWarning: Glyph 54869 (\\N{HANGUL SYLLABLE HWAG}) missing from font(s) DejaVu Sans.\n",
            "  fig.canvas.print_figure(bytes_io, **kw)\n",
            "/usr/local/lib/python3.11/dist-packages/IPython/core/pylabtools.py:151: UserWarning: Glyph 46020 (\\N{HANGUL SYLLABLE DO}) missing from font(s) DejaVu Sans.\n",
            "  fig.canvas.print_figure(bytes_io, **kw)\n",
            "/usr/local/lib/python3.11/dist-packages/IPython/core/pylabtools.py:151: UserWarning: Glyph 48320 (\\N{HANGUL SYLLABLE BYEON}) missing from font(s) DejaVu Sans.\n",
            "  fig.canvas.print_figure(bytes_io, **kw)\n",
            "/usr/local/lib/python3.11/dist-packages/IPython/core/pylabtools.py:151: UserWarning: Glyph 54868 (\\N{HANGUL SYLLABLE HWA}) missing from font(s) DejaVu Sans.\n",
            "  fig.canvas.print_figure(bytes_io, **kw)\n"
          ]
        },
        {
          "output_type": "display_data",
          "data": {
            "text/plain": [
              "<Figure size 640x480 with 1 Axes>"
            ],
            "image/png": "[encoded data removed]"
          },
          "metadata": {}
        }
      ]
    },
    {
      "cell_type": "code",
      "source": [
        "# 최적 K 값으로 최종 KNN 모델 학습 및 평가\n",
        "knn_optimal = KNeighborsClassifier(n_neighbors=optimal_k)\n",
        "knn_optimal.fit(train_dtw_matrix, y_train)\n",
        "y_pred = knn_optimal.predict(test_dtw_matrix)"
      ],
      "metadata": {
        "id": "DflYUNg7S0_H"
      },
      "execution_count": 10,
      "outputs": []
    },
    {
      "cell_type": "code",
      "source": [
        "import matplotlib.pyplot as plt\n",
        "import seaborn as sns\n",
        "from sklearn.metrics import accuracy_score, f1_score, confusion_matrix, classification_report, precision_recall_curve"
      ],
      "metadata": {
        "id": "RSMm2-A8GZtS"
      },
      "execution_count": 11,
      "outputs": []
    },
    {
      "cell_type": "code",
      "source": [
        "# Compute evaluation metrics\n",
        "accuracy = accuracy_score(y_test, y_pred)\n",
        "f1 = f1_score(y_test, y_pred, average='weighted')\n",
        "recall = recall_score(y_test, y_pred)\n",
        "specificity = specificity_score(y_test, y_pred)\n",
        "\n",
        "print(f\"Accuracy: {accuracy:.4f}\")\n",
        "print(f\"F1 Score: {f1:.4f}\")\n",
        "print(f\"Recall: {recall:.4f}\")\n",
        "print(f\"specificity: {specificity:.4f}\")\n",
        "print(\"Classification Report:\\n\", classification_report(y_test, y_pred))"
      ],
      "metadata": {
        "colab": {
          "base_uri": "https://localhost:8080/"
        },
        "id": "o8_WglezGI38",
        "outputId": "2b9b368e-49fc-45d4-bf74-c0aabc491d9f"
      },
      "execution_count": 12,
      "outputs": [
        {
          "output_type": "stream",
          "name": "stdout",
          "text": [
            "Accuracy: 0.6000\n",
            "F1 Score: 0.4700\n",
            "Recall: 0.9804\n",
            "specificity: 0.0294\n",
            "Classification Report:\n",
            "               precision    recall  f1-score   support\n",
            "\n",
            "           0       0.50      0.03      0.06        34\n",
            "           1       0.60      0.98      0.75        51\n",
            "\n",
            "    accuracy                           0.60        85\n",
            "   macro avg       0.55      0.50      0.40        85\n",
            "weighted avg       0.56      0.60      0.47        85\n",
            "\n"
          ]
        }
      ]
    },
    {
      "cell_type": "code",
      "source": [
        "# Confusion Matrix\n",
        "plt.figure(figsize=(4, 3))\n",
        "cm = confusion_matrix(y_test, y_pred)\n",
        "sns.heatmap(cm, annot=True, fmt='d', cmap='Blues', xticklabels=np.unique(y_test), yticklabels=np.unique(y_test))\n",
        "plt.xlabel('Predicted Label')\n",
        "plt.ylabel('True Label')\n",
        "plt.title('Confusion Matrix')\n",
        "plt.show()"
      ],
      "metadata": {
        "colab": {
          "base_uri": "https://localhost:8080/",
          "height": 333
        },
        "id": "AEXEJDXoNfML",
        "outputId": "d786d41d-cd8b-4c0f-e50d-5fde94460361"
      },
      "execution_count": 13,
      "outputs": [
        {
          "output_type": "display_data",
          "data": {
            "text/plain": [
              "<Figure size 400x300 with 2 Axes>"
            ],
            "image/png": "[encoded data removed]"
          },
          "metadata": {}
        }
      ]
    }
  ]
}