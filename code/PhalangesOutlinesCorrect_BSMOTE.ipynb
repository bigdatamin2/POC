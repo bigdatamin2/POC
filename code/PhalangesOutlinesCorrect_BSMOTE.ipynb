{
  "nbformat": 4,
  "nbformat_minor": 0,
  "metadata": {
    "colab": {
      "provenance": [],
      "machine_shape": "hm",
      "gpuType": "T4"
    },
    "kernelspec": {
      "name": "python3",
      "display_name": "Python 3"
    },
    "language_info": {
      "name": "python"
    }
  },
  "cells": [
    {
      "cell_type": "code",
      "execution_count": 14,
      "metadata": {
        "colab": {
          "base_uri": "https://localhost:8080/"
        },
        "id": "wkwveHmr_M_N",
        "outputId": "c6ae6728-3041-4431-b72c-e9b6ba72a1c4",
        "collapsed": true
      },
      "outputs": [
        {
          "output_type": "stream",
          "name": "stdout",
          "text": [
            "Requirement already satisfied: fastdtw in /usr/local/lib/python3.11/dist-packages (0.3.4)\n",
            "Requirement already satisfied: numpy in /usr/local/lib/python3.11/dist-packages (from fastdtw) (1.26.4)\n",
            "Requirement already satisfied: imblearn in /usr/local/lib/python3.11/dist-packages (0.0)\n",
            "Requirement already satisfied: imbalanced-learn in /usr/local/lib/python3.11/dist-packages (from imblearn) (0.13.0)\n",
            "Requirement already satisfied: numpy<3,>=1.24.3 in /usr/local/lib/python3.11/dist-packages (from imbalanced-learn->imblearn) (1.26.4)\n",
            "Requirement already satisfied: scipy<2,>=1.10.1 in /usr/local/lib/python3.11/dist-packages (from imbalanced-learn->imblearn) (1.13.1)\n",
            "Requirement already satisfied: scikit-learn<2,>=1.3.2 in /usr/local/lib/python3.11/dist-packages (from imbalanced-learn->imblearn) (1.6.1)\n",
            "Requirement already satisfied: sklearn-compat<1,>=0.1 in /usr/local/lib/python3.11/dist-packages (from imbalanced-learn->imblearn) (0.1.3)\n",
            "Requirement already satisfied: joblib<2,>=1.1.1 in /usr/local/lib/python3.11/dist-packages (from imbalanced-learn->imblearn) (1.4.2)\n",
            "Requirement already satisfied: threadpoolctl<4,>=2.0.0 in /usr/local/lib/python3.11/dist-packages (from imbalanced-learn->imblearn) (3.5.0)\n"
          ]
        }
      ],
      "source": [
        "!pip install fastdtw\n",
        "!pip install imblearn"
      ]
    },
    {
      "cell_type": "code",
      "source": [
        "import numpy as np\n",
        "import pandas as pd\n",
        "import matplotlib.pyplot as plt\n",
        "from scipy.spatial.distance import euclidean\n",
        "from fastdtw import fastdtw\n",
        "from sklearn.model_selection import train_test_split\n",
        "from sklearn.neighbors import KNeighborsClassifier\n",
        "from sklearn.metrics import accuracy_score, classification_report, recall_score\n",
        "from urllib.request import urlopen\n",
        "from io import StringIO\n",
        "from google.colab import drive\n",
        "import random\n",
        "from imblearn.metrics import specificity_score\n",
        "from imblearn.over_sampling import BorderlineSMOTE"
      ],
      "metadata": {
        "id": "Z8MOpsbZ_PMf"
      },
      "execution_count": 15,
      "outputs": []
    },
    {
      "cell_type": "code",
      "source": [
        "# 1. Google Drive 마운트 및 데이터 파일 경로 설정\n",
        "drive.mount('/content/drive')\n",
        "df_X_train = pd.read_csv('/content/drive/My Drive/PhalangesOutlinesCorrect/X_train_sample.csv')\n",
        "df_y_train = pd.read_csv('/content/drive/My Drive/PhalangesOutlinesCorrect/y_train_sample.csv')\n",
        "df_X_test = pd.read_csv('/content/drive/MyDrive/PhalangesOutlinesCorrect/X_test_sample.csv')\n",
        "df_y_test = pd.read_csv('/content/drive/MyDrive/PhalangesOutlinesCorrect/y_test_sample.csv')\n",
        "\n",
        "X_train = df_X_train.values\n",
        "y_train = df_y_train.values.reshape(-1)\n",
        "X_test = df_X_test.values\n",
        "y_test = df_y_test.values.reshape(-1)"
      ],
      "metadata": {
        "colab": {
          "base_uri": "https://localhost:8080/"
        },
        "id": "E-ZO3b62_VFB",
        "outputId": "b7c058d2-99d1-4a4d-c9fc-b04dda395460"
      },
      "execution_count": 16,
      "outputs": [
        {
          "output_type": "stream",
          "name": "stdout",
          "text": [
            "Drive already mounted at /content/drive; to attempt to forcibly remount, call drive.mount(\"/content/drive\", force_remount=True).\n"
          ]
        }
      ]
    },
    {
      "cell_type": "code",
      "source": [
        "# Apply Borderline SMOTE to balance the dataset\n",
        "smote = BorderlineSMOTE(random_state=42)\n",
        "X_train_resampled, y_train_resampled = smote.fit_resample(X_train, y_train)"
      ],
      "metadata": {
        "id": "mUy4Kg08k5Xu"
      },
      "execution_count": 17,
      "outputs": []
    },
    {
      "cell_type": "code",
      "source": [
        "# 3. DTW 거리 행렬 계산 함수 정의 (1D 벡터 변환 추가)\n",
        "def compute_dtw_matrix(X1, X2):\n",
        "    \"\"\"X1과 X2 간의 DTW 거리 행렬을 계산\"\"\"\n",
        "    n1, n2 = len(X1), len(X2)\n",
        "    dtw_matrix = np.zeros((n1, n2))\n",
        "    for i in range(n1):\n",
        "        for j in range(n2):\n",
        "            distance, _ = fastdtw(X1[i].reshape(-1, 1), X2[j].reshape(-1, 1), dist=euclidean)\n",
        "            dtw_matrix[i, j] = distance\n",
        "    return dtw_matrix"
      ],
      "metadata": {
        "id": "rKxmvaWRAFv6"
      },
      "execution_count": 18,
      "outputs": []
    },
    {
      "cell_type": "code",
      "source": [
        "# 4. DTW 거리 행렬 계산\n",
        "print(\"Computing DTW distance matrix for training data...\")\n",
        "train_dtw_matrix = compute_dtw_matrix(X_train_resampled, X_train_resampled)\n",
        "print(\"Computing DTW distance matrix between train and test data...\")\n",
        "test_dtw_matrix = compute_dtw_matrix(X_test, X_train_resampled)"
      ],
      "metadata": {
        "colab": {
          "base_uri": "https://localhost:8080/"
        },
        "id": "IQBd0dYvAKA5",
        "outputId": "f69a20c8-f19d-478a-c01d-e288af10315b"
      },
      "execution_count": 19,
      "outputs": [
        {
          "output_type": "stream",
          "name": "stdout",
          "text": [
            "Computing DTW distance matrix for training data...\n",
            "Computing DTW distance matrix between train and test data...\n"
          ]
        }
      ]
    },
    {
      "cell_type": "code",
      "source": [
        "train_dtw_matrix.shape"
      ],
      "metadata": {
        "colab": {
          "base_uri": "https://localhost:8080/"
        },
        "id": "nEZtSjmsoIS0",
        "outputId": "5e542554-240d-4c1e-98d6-242b7ebe8eb2"
      },
      "execution_count": 20,
      "outputs": [
        {
          "output_type": "execute_result",
          "data": {
            "text/plain": [
              "(234, 234)"
            ]
          },
          "metadata": {},
          "execution_count": 20
        }
      ]
    },
    {
      "cell_type": "code",
      "source": [
        "from sklearn.model_selection import train_test_split, cross_val_score\n",
        "# train 점수\n",
        "k_range = range(1, 21)  # K 값을 1부터 20까지 탐색\n",
        "trainList = []\n",
        "for k in k_range:\n",
        "    # 모델 선택 및 하이퍼 파라미터 튜닝\n",
        "    #model = KNeighborsClassifier(n_neighbors = k, metric='precomputed')\n",
        "    model = KNeighborsClassifier(n_neighbors = k, metric='precomputed')\n",
        "    # 모델학습\n",
        "    model.fit(train_dtw_matrix, y_train_resampled)\n",
        "    scores = cross_val_score(model, train_dtw_matrix, y_train_resampled, cv=5, scoring='f1_macro')\n",
        "    trainList.append(scores.mean())\n",
        "optimal_score = trainList[np.argmax(trainList)]\n",
        "optimal_k = np.argmax(trainList)+1\n",
        "print(f\"최적의 K 값: {optimal_k}\")\n",
        "print(f\"최적의 K 값의 성능: {optimal_score}\")"
      ],
      "metadata": {
        "colab": {
          "base_uri": "https://localhost:8080/"
        },
        "id": "LaVAuInPSOeR",
        "outputId": "9af8584d-38c5-4344-ccfb-d890cbceac1e"
      },
      "execution_count": 21,
      "outputs": [
        {
          "output_type": "stream",
          "name": "stdout",
          "text": [
            "최적의 K 값: 1\n",
            "최적의 K 값의 성능: 0.9743907332114018\n"
          ]
        }
      ]
    },
    {
      "cell_type": "code",
      "source": [
        "# K 값에 따른 정확도 그래프\n",
        "plt.plot(k_range, trainList, marker='o')\n",
        "plt.xlabel(\"K 값\")\n",
        "plt.ylabel(\"Cross-validation Accuracy\")\n",
        "plt.title(\"K 값에 따른 정확도 변화\")\n",
        "plt.show()"
      ],
      "metadata": {
        "colab": {
          "base_uri": "https://localhost:8080/",
          "height": 799
        },
        "id": "rL4SyppdWUJp",
        "outputId": "f711e15d-39da-4fca-e37b-5f6894b20b57"
      },
      "execution_count": 22,
      "outputs": [
        {
          "output_type": "stream",
          "name": "stderr",
          "text": [
            "/usr/local/lib/python3.11/dist-packages/IPython/core/pylabtools.py:151: UserWarning: Glyph 44050 (\\N{HANGUL SYLLABLE GABS}) missing from font(s) DejaVu Sans.\n",
            "  fig.canvas.print_figure(bytes_io, **kw)\n",
            "/usr/local/lib/python3.11/dist-packages/IPython/core/pylabtools.py:151: UserWarning: Glyph 50640 (\\N{HANGUL SYLLABLE E}) missing from font(s) DejaVu Sans.\n",
            "  fig.canvas.print_figure(bytes_io, **kw)\n",
            "/usr/local/lib/python3.11/dist-packages/IPython/core/pylabtools.py:151: UserWarning: Glyph 46384 (\\N{HANGUL SYLLABLE DDA}) missing from font(s) DejaVu Sans.\n",
            "  fig.canvas.print_figure(bytes_io, **kw)\n",
            "/usr/local/lib/python3.11/dist-packages/IPython/core/pylabtools.py:151: UserWarning: Glyph 47480 (\\N{HANGUL SYLLABLE REUN}) missing from font(s) DejaVu Sans.\n",
            "  fig.canvas.print_figure(bytes_io, **kw)\n",
            "/usr/local/lib/python3.11/dist-packages/IPython/core/pylabtools.py:151: UserWarning: Glyph 51221 (\\N{HANGUL SYLLABLE JEONG}) missing from font(s) DejaVu Sans.\n",
            "  fig.canvas.print_figure(bytes_io, **kw)\n",
            "/usr/local/lib/python3.11/dist-packages/IPython/core/pylabtools.py:151: UserWarning: Glyph 54869 (\\N{HANGUL SYLLABLE HWAG}) missing from font(s) DejaVu Sans.\n",
            "  fig.canvas.print_figure(bytes_io, **kw)\n",
            "/usr/local/lib/python3.11/dist-packages/IPython/core/pylabtools.py:151: UserWarning: Glyph 46020 (\\N{HANGUL SYLLABLE DO}) missing from font(s) DejaVu Sans.\n",
            "  fig.canvas.print_figure(bytes_io, **kw)\n",
            "/usr/local/lib/python3.11/dist-packages/IPython/core/pylabtools.py:151: UserWarning: Glyph 48320 (\\N{HANGUL SYLLABLE BYEON}) missing from font(s) DejaVu Sans.\n",
            "  fig.canvas.print_figure(bytes_io, **kw)\n",
            "/usr/local/lib/python3.11/dist-packages/IPython/core/pylabtools.py:151: UserWarning: Glyph 54868 (\\N{HANGUL SYLLABLE HWA}) missing from font(s) DejaVu Sans.\n",
            "  fig.canvas.print_figure(bytes_io, **kw)\n"
          ]
        },
        {
          "output_type": "display_data",
          "data": {
            "text/plain": [
              "<Figure size 640x480 with 1 Axes>"
            ],
            "image/png": "[encoded data removed]"
          },
          "metadata": {}
        }
      ]
    },
    {
      "cell_type": "code",
      "source": [
        "# 최적 K 값으로 최종 KNN 모델 학습 및 평가\n",
        "knn_optimal = KNeighborsClassifier(n_neighbors=optimal_k, metric='precomputed')\n",
        "knn_optimal.fit(train_dtw_matrix, y_train_resampled)\n",
        "y_pred = knn_optimal.predict(test_dtw_matrix)"
      ],
      "metadata": {
        "id": "DflYUNg7S0_H"
      },
      "execution_count": 23,
      "outputs": []
    },
    {
      "cell_type": "code",
      "source": [
        "import matplotlib.pyplot as plt\n",
        "import seaborn as sns\n",
        "from sklearn.metrics import accuracy_score, f1_score, confusion_matrix, classification_report, precision_recall_curve"
      ],
      "metadata": {
        "id": "RSMm2-A8GZtS"
      },
      "execution_count": 24,
      "outputs": []
    },
    {
      "cell_type": "code",
      "source": [
        "# Compute evaluation metrics\n",
        "accuracy = accuracy_score(y_test, y_pred)\n",
        "f1 = f1_score(y_test, y_pred, average='weighted')\n",
        "recall = recall_score(y_test, y_pred)\n",
        "specificity = specificity_score(y_test, y_pred)\n",
        "\n",
        "print(f\"Accuracy: {accuracy:.4f}\")\n",
        "print(f\"F1 Score: {f1:.4f}\")\n",
        "print(f\"Recall: {recall:.4f}\")\n",
        "print(f\"specificity: {specificity:.4f}\")\n",
        "print(\"Classification Report:\\n\", classification_report(y_test, y_pred))"
      ],
      "metadata": {
        "colab": {
          "base_uri": "https://localhost:8080/"
        },
        "id": "o8_WglezGI38",
        "outputId": "154a8a83-1f23-4d31-d914-f2573f60154a"
      },
      "execution_count": 25,
      "outputs": [
        {
          "output_type": "stream",
          "name": "stdout",
          "text": [
            "Accuracy: 0.6118\n",
            "F1 Score: 0.4944\n",
            "Recall: 0.9804\n",
            "specificity: 0.0588\n",
            "Classification Report:\n",
            "               precision    recall  f1-score   support\n",
            "\n",
            "           0       0.67      0.06      0.11        34\n",
            "           1       0.61      0.98      0.75        51\n",
            "\n",
            "    accuracy                           0.61        85\n",
            "   macro avg       0.64      0.52      0.43        85\n",
            "weighted avg       0.63      0.61      0.49        85\n",
            "\n"
          ]
        }
      ]
    },
    {
      "cell_type": "code",
      "source": [
        "# Confusion Matrix\n",
        "plt.figure(figsize=(4, 3))\n",
        "cm = confusion_matrix(y_test, y_pred)\n",
        "sns.heatmap(cm, annot=True, fmt='d', cmap='Blues', xticklabels=np.unique(y_test), yticklabels=np.unique(y_test))\n",
        "plt.xlabel('Predicted Label')\n",
        "plt.ylabel('True Label')\n",
        "plt.title('Confusion Matrix')\n",
        "plt.show()"
      ],
      "metadata": {
        "colab": {
          "base_uri": "https://localhost:8080/",
          "height": 333
        },
        "id": "55miS5DPNHTW",
        "outputId": "5cc25647-749a-4340-b4e6-d71b23da1c48"
      },
      "execution_count": 26,
      "outputs": [
        {
          "output_type": "display_data",
          "data": {
            "text/plain": [
              "<Figure size 400x300 with 2 Axes>"
            ],
            "image/png": "[encoded data removed]"
          },
          "metadata": {}
        }
      ]
    }
  ]
}